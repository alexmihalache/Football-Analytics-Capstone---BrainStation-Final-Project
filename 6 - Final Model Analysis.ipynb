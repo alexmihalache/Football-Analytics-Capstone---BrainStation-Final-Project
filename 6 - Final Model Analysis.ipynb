{
 "cells": [
  {
   "cell_type": "code",
   "execution_count": 1,
   "metadata": {},
   "outputs": [
    {
     "name": "stderr",
     "output_type": "stream",
     "text": [
      "/Users/alexmihalache/opt/anaconda3/lib/python3.9/site-packages/xgboost/compat.py:36: FutureWarning: pandas.Int64Index is deprecated and will be removed from pandas in a future version. Use pandas.Index with the appropriate dtype instead.\n",
      "  from pandas import MultiIndex, Int64Index\n"
     ]
    }
   ],
   "source": [
    "import pandas as pd\n",
    "import numpy as np\n",
    "\n",
    "#Plotting liibs\n",
    "import matplotlib.pyplot as plt\n",
    "import seaborn as sns \n",
    "import plotly.graph_objects as go\n",
    "import plotly.express as px\n",
    "from plotly.subplots import make_subplots\n",
    "\n",
    "\n",
    "#Football libs\n",
    "import socceraction\n",
    "from socceraction.data.statsbomb import StatsBombLoader\n",
    "from mplsoccer import Pitch, Sbopen, VerticalPitch\n",
    "import socceraction.spadl as spadl\n",
    "import matplotsoccer as mps\n",
    "import socceraction.xthreat as xthreat\n",
    "import socceraction.spadl as spadl\n",
    "from socceraction.vaep import VAEP\n",
    "\n",
    "# utils\n",
    "import warnings\n",
    "warnings.filterwarnings('ignore')\n",
    "from tqdm import tqdm\n",
    "# fuzz is used to compare TWO strings\n",
    "from fuzzywuzzy import fuzz\n",
    "# process is used to compare a string to MULTIPLE other strings\n",
    "from fuzzywuzzy import process\n",
    "import load_data\n",
    "import pre_processing_utils as ppu\n",
    "from itertools import cycle\n",
    "\n",
    "# ML libs\n",
    "from sklearn.tree import DecisionTreeClassifier\n",
    "from sklearn.feature_selection import SelectKBest, chi2, f_classif, f_regression\n",
    "from sklearn.compose import ColumnTransformer\n",
    "from sklearn.compose import make_column_transformer\n",
    "from sklearn.preprocessing import OneHotEncoder, label_binarize, StandardScaler, MinMaxScaler, RobustScaler\n",
    "from sklearn.cluster import KMeans\n",
    "from sklearn.metrics import silhouette_score\n",
    "from sklearn.cluster import DBSCAN\n",
    "from sklearn.tree import DecisionTreeRegressor\n",
    "from sklearn.linear_model import LinearRegression\n",
    "from sklearn.linear_model import Ridge\n",
    "from sklearn.linear_model import Lasso\n",
    "from sklearn.model_selection import GridSearchCV\n",
    "from sklearn.model_selection import RandomizedSearchCV\n",
    "from sklearn.ensemble import RandomForestClassifier\n",
    "from sklearn.ensemble import RandomForestRegressor\n",
    "from sklearn import svm\n",
    "from sklearn.pipeline import Pipeline, make_pipeline\n",
    "from sklearn.linear_model import LogisticRegression\n",
    "import xgboost as xgb\n",
    "from sklearn.neighbors import KNeighborsRegressor\n",
    "from sklearn.decomposition import PCA\n",
    "\n",
    "#Model scoring \n",
    "from sklearn.metrics import classification_report, roc_auc_score, plot_roc_curve, confusion_matrix, confusion_matrix, plot_confusion_matrix, mean_squared_error, r2_score, roc_curve, auc"
   ]
  },
  {
   "cell_type": "code",
   "execution_count": 2,
   "metadata": {},
   "outputs": [],
   "source": [
    "xt, xt_test, vaep, vaep_test, games, games_test, players, players_test, target_players = load_data.load_data()"
   ]
  },
  {
   "cell_type": "code",
   "execution_count": 28,
   "metadata": {},
   "outputs": [],
   "source": [
    "modeling_train_df = vaep.copy()\n",
    "modeling_test_df = vaep_test.copy()\n",
    "modeling_xt_train_df = xt.copy()\n",
    "modeling_xt_test_df = xt_test.copy()"
   ]
  },
  {
   "cell_type": "code",
   "execution_count": 20,
   "metadata": {},
   "outputs": [
    {
     "data": {
      "text/html": [
       "<div>\n",
       "<style scoped>\n",
       "    .dataframe tbody tr th:only-of-type {\n",
       "        vertical-align: middle;\n",
       "    }\n",
       "\n",
       "    .dataframe tbody tr th {\n",
       "        vertical-align: top;\n",
       "    }\n",
       "\n",
       "    .dataframe thead th {\n",
       "        text-align: right;\n",
       "    }\n",
       "</style>\n",
       "<table border=\"1\" class=\"dataframe\">\n",
       "  <thead>\n",
       "    <tr style=\"text-align: right;\">\n",
       "      <th></th>\n",
       "      <th>player_id</th>\n",
       "      <th>player_name</th>\n",
       "      <th>minutes_played</th>\n",
       "    </tr>\n",
       "  </thead>\n",
       "  <tbody>\n",
       "    <tr>\n",
       "      <th>0</th>\n",
       "      <td>24239</td>\n",
       "      <td>Jemma Elizabeth Purfield</td>\n",
       "      <td>2016</td>\n",
       "    </tr>\n",
       "    <tr>\n",
       "      <th>1</th>\n",
       "      <td>15579</td>\n",
       "      <td>Inessa Kaagman</td>\n",
       "      <td>2015</td>\n",
       "    </tr>\n",
       "    <tr>\n",
       "      <th>2</th>\n",
       "      <td>5076</td>\n",
       "      <td>Emily Louise van Egmond</td>\n",
       "      <td>1940</td>\n",
       "    </tr>\n",
       "    <tr>\n",
       "      <th>3</th>\n",
       "      <td>5074</td>\n",
       "      <td>Shelina Laura Zadorsky</td>\n",
       "      <td>1930</td>\n",
       "    </tr>\n",
       "    <tr>\n",
       "      <th>4</th>\n",
       "      <td>31534</td>\n",
       "      <td>Ella Toone</td>\n",
       "      <td>1887</td>\n",
       "    </tr>\n",
       "  </tbody>\n",
       "</table>\n",
       "</div>"
      ],
      "text/plain": [
       "   player_id               player_name  minutes_played\n",
       "0      24239  Jemma Elizabeth Purfield            2016\n",
       "1      15579            Inessa Kaagman            2015\n",
       "2       5076   Emily Louise van Egmond            1940\n",
       "3       5074    Shelina Laura Zadorsky            1930\n",
       "4      31534                Ella Toone            1887"
      ]
     },
     "execution_count": 20,
     "metadata": {},
     "output_type": "execute_result"
    }
   ],
   "source": [
    "target_players.head(5)"
   ]
  },
  {
   "cell_type": "code",
   "execution_count": 49,
   "metadata": {},
   "outputs": [],
   "source": [
    "player_id = 15579\n",
    "post_transfer_team = 965\n",
    "pre_transfer_team = 967"
   ]
  },
  {
   "cell_type": "code",
   "execution_count": 18,
   "metadata": {},
   "outputs": [
    {
     "data": {
      "text/plain": [
       "30"
      ]
     },
     "execution_count": 18,
     "metadata": {},
     "output_type": "execute_result"
    }
   ],
   "source": [
    "vaep[vaep['player_id']==player_id]['game_id'].nunique()"
   ]
  },
  {
   "cell_type": "code",
   "execution_count": 17,
   "metadata": {},
   "outputs": [
    {
     "data": {
      "text/plain": [
       "22"
      ]
     },
     "execution_count": 17,
     "metadata": {},
     "output_type": "execute_result"
    }
   ],
   "source": [
    "vaep_test[vaep_test['player_id']==player_id]['game_id'].nunique()"
   ]
  },
  {
   "cell_type": "code",
   "execution_count": 21,
   "metadata": {},
   "outputs": [
    {
     "data": {
      "text/plain": [
       "vaep_value    0.123601\n",
       "dtype: float64"
      ]
     },
     "execution_count": 21,
     "metadata": {},
     "output_type": "execute_result"
    }
   ],
   "source": [
    "vaep[vaep['player_id']==player_id][['vaep_value']].sum()/30"
   ]
  },
  {
   "cell_type": "code",
   "execution_count": 23,
   "metadata": {},
   "outputs": [
    {
     "data": {
      "text/plain": [
       "dribble    0.406929\n",
       "pass       0.397622\n",
       "other      0.195450\n",
       "Name: type_name_encoded, dtype: float64"
      ]
     },
     "execution_count": 23,
     "metadata": {},
     "output_type": "execute_result"
    }
   ],
   "source": [
    "vaep[vaep['player_id']==player_id]['type_name_encoded'].value_counts(normalize=True)"
   ]
  },
  {
   "cell_type": "code",
   "execution_count": 24,
   "metadata": {},
   "outputs": [
    {
     "data": {
      "text/plain": [
       "dribble    0.403344\n",
       "pass       0.397324\n",
       "other      0.199331\n",
       "Name: type_name_encoded, dtype: float64"
      ]
     },
     "execution_count": 24,
     "metadata": {},
     "output_type": "execute_result"
    }
   ],
   "source": [
    "vaep_test[vaep_test['player_id']==player_id]['type_name_encoded'].value_counts(normalize=True)"
   ]
  },
  {
   "cell_type": "code",
   "execution_count": 26,
   "metadata": {},
   "outputs": [
    {
     "data": {
      "text/plain": [
       "xT_value    1.275013\n",
       "dtype: float64"
      ]
     },
     "execution_count": 26,
     "metadata": {},
     "output_type": "execute_result"
    }
   ],
   "source": [
    "xt[xt['player_id']==player_id][['xT_value']].sum()"
   ]
  },
  {
   "cell_type": "markdown",
   "metadata": {},
   "source": [
    "## VAEP Prediction"
   ]
  },
  {
   "cell_type": "code",
   "execution_count": 33,
   "metadata": {},
   "outputs": [],
   "source": [
    "from tempfile import mkdtemp\n",
    "cachedir = mkdtemp()"
   ]
  },
  {
   "cell_type": "code",
   "execution_count": null,
   "metadata": {},
   "outputs": [],
   "source": [
    "X_train, y_train, X_test, y_test = ppu.create_team_data('team_id',post_transfer_team, modeling_train_df, modeling_test_df, 'vaep_value')\n",
    "\n",
    "numeric_features_vaep, categorical_features_vaep, drop_features_vaep = ppu.set_ct_mode('team-vaep')\n",
    "\n",
    "# define column transformed for pipeline\n",
    "ct_vaep = make_column_transformer(\n",
    "    (StandardScaler(), numeric_features_vaep),\n",
    "    (OneHotEncoder(handle_unknown='ignore'), categorical_features_vaep),\n",
    "    # ('passthrough', passthrough_features),\n",
    "    ('drop', drop_features_vaep))\n",
    "\n",
    "\n",
    "pipe_vaep = make_pipeline(ct_vaep, xgb.XGBRegressor(max_depth=8, gamma=0.01, reg_alpha=1.1, eta=0.1))\n",
    "pipe_vaep.fit(X_train, y_train)\n"
   ]
  },
  {
   "cell_type": "code",
   "execution_count": null,
   "metadata": {},
   "outputs": [],
   "source": [
    "X_train, y_train, X_test, y_test = ppu.create_team_data('team_id',post_transfer_team, modeling_xt_train_df, modeling_xt_test_df, 'xT_value')\n",
    "\n",
    "\n",
    "numeric_features_xt, categorical_features_xt, drop_features_xt = ppu.set_ct_mode('team-xt')\n",
    "\n",
    "# pipeline column transformer\n",
    "ct_xt = make_column_transformer(\n",
    "    (StandardScaler(), numeric_features_xt),\n",
    "    (OneHotEncoder(handle_unknown='ignore'), categorical_features_xt),\n",
    "    # ('passthrough', passthrough_features),\n",
    "    ('drop', drop_features_xt))\n",
    "\n",
    "pipe_xt = make_pipeline(ct_xt, xgb.XGBRegressor(max_depth=5, reg_lambda=200))\n",
    "pipe_xt.fit(X_train, y_train)"
   ]
  },
  {
   "cell_type": "code",
   "execution_count": null,
   "metadata": {},
   "outputs": [],
   "source": [
    "X_train, y_train, X_test, y_test = ppu.create_team_data('team_id',post_transfer_team, modeling_train_df, modeling_test_df, 'type_name_encoded')\n",
    "\n",
    "numeric_features_action, categorical_features_action, drop_features_action = ppu.set_ct_mode('team-action')\n",
    "\n",
    "ct_action = make_column_transformer(\n",
    "    (StandardScaler(), numeric_features_action),\n",
    "    (OneHotEncoder(handle_unknown='ignore'), categorical_features_action),\n",
    "    # ('passthrough', passthrough_features),\n",
    "    ('drop', drop_features_action))\n",
    "\n",
    "\n",
    "pipe_action = make_pipeline(ct_action, xgb.XGBClassifier(max_depth=3, eta=0.3, gamma=0.01))\n",
    "pipe_action.fit(X_train, y_train)"
   ]
  },
  {
   "cell_type": "code",
   "execution_count": null,
   "metadata": {},
   "outputs": [],
   "source": [
    "X_train, y_train, X_test, y_test = ppu.create_team_data('team_id',post_transfer_team, modeling_train_df, modeling_test_df, 'end_pitch_zone')\n",
    "\n",
    "numeric_features_end, categorical_features_end, drop_features_end = ppu.set_ct_mode('team-end')\n",
    "\n",
    "ct_end = make_column_transformer(\n",
    "    (StandardScaler(), numeric_features_end),\n",
    "    (OneHotEncoder(handle_unknown='ignore'), categorical_features_end),\n",
    "    # ('passthrough', passthrough_features),\n",
    "    ('drop', drop_features_end))\n",
    "\n",
    "\n",
    "\n",
    "pipe_end = make_pipeline(ct_end, xgb.XGBClassifier(max_depth=3, eta=0.3, gamma=0.01))\n",
    "pipe_end.fit(X_train, y_train)"
   ]
  },
  {
   "cell_type": "code",
   "execution_count": 56,
   "metadata": {},
   "outputs": [],
   "source": [
    "player_data_pre_transfer = modeling_train_df[modeling_train_df['player_id']==player_id]\n",
    "player_data_pre_transfer_xt = modeling_xt_train_df[modeling_xt_train_df['player_id']==player_id]"
   ]
  },
  {
   "cell_type": "code",
   "execution_count": 57,
   "metadata": {},
   "outputs": [],
   "source": [
    "vaep_pred = pipe_vaep.predict(player_data_pre_transfer)\n",
    "xt_pred = pipe_xt.predict(player_data_pre_transfer_xt)\n",
    "action_pred = pipe_action.predict(player_data_pre_transfer)\n",
    "end_pred = pipe_end.predict(player_data_pre_transfer)\n",
    "\n",
    "player_data_pre_transfer['vaep_pred'] = vaep_pred\n",
    "player_data_pre_transfer_xt['xt_pred'] = xt_pred\n",
    "player_data_pre_transfer['action_pred'] = action_pred\n",
    "player_data_pre_transfer['end_pred'] = end_pred"
   ]
  },
  {
   "cell_type": "code",
   "execution_count": 68,
   "metadata": {},
   "outputs": [
    {
     "name": "stdout",
     "output_type": "stream",
     "text": [
      "Predicted VAEP, Pre-transfer:  0.1389993190765381\n",
      " \n",
      "Predicted XT Pre-transfer:  0.0430255651473999\n",
      " \n",
      "Actions Distribution Pre-transfer:\n",
      " dribble    0.449845\n",
      "pass       0.380558\n",
      "other      0.169597\n",
      "Name: action_pred, dtype: float64\n",
      " \n",
      "End Zone Distribution Pre-transfer:\n",
      " zone_6    0.206308\n",
      "zone_8    0.162358\n",
      "zone_9    0.142192\n",
      "zone_4    0.133402\n",
      "zone_7    0.111169\n",
      "zone_5    0.100310\n",
      "zone_3    0.062048\n",
      "zone_1    0.042916\n",
      "zone_2    0.039297\n",
      "Name: end_pred, dtype: float64\n"
     ]
    }
   ],
   "source": [
    "print('Predicted VAEP, Pre-transfer: ', player_data_pre_transfer['vaep_pred'].sum()/30)\n",
    "print(' ')\n",
    "print('Predicted XT Pre-transfer: ', player_data_pre_transfer_xt['xt_pred'].sum()/30)\n",
    "print(' ')\n",
    "print('Actions Distribution Pre-transfer:\\n', player_data_pre_transfer['action_pred'].value_counts(normalize=True))\n",
    "print(' ')\n",
    "print('End Zone Distribution Pre-transfer:\\n', player_data_pre_transfer['end_pred'].value_counts(normalize=True))"
   ]
  },
  {
   "cell_type": "code",
   "execution_count": 64,
   "metadata": {},
   "outputs": [
    {
     "data": {
      "text/plain": [
       "22"
      ]
     },
     "execution_count": 64,
     "metadata": {},
     "output_type": "execute_result"
    }
   ],
   "source": [
    "vaep_test[vaep_test['player_id']==player_id]['game_id'].nunique()"
   ]
  },
  {
   "cell_type": "code",
   "execution_count": 69,
   "metadata": {},
   "outputs": [
    {
     "name": "stdout",
     "output_type": "stream",
     "text": [
      "VAEP Post-transfer:  0.25302502775809543\n",
      " \n",
      "XT Post-transfer:  0.05955026945349151\n",
      " \n",
      "Actions Distribution Post-transfer:\n",
      " dribble    0.403344\n",
      "pass       0.397324\n",
      "other      0.199331\n",
      "Name: type_name_encoded, dtype: float64\n",
      " \n",
      "End Zone Distribution Post-transfer:\n",
      " zone_6    0.229431\n",
      "zone_8    0.174582\n",
      "zone_9    0.161873\n",
      "zone_3    0.117726\n",
      "zone_5    0.092977\n",
      "zone_4    0.086957\n",
      "zone_7    0.084950\n",
      "zone_2    0.027425\n",
      "zone_1    0.024080\n",
      "Name: end_pitch_zone, dtype: float64\n"
     ]
    }
   ],
   "source": [
    "print('VAEP Post-transfer: ', vaep_test[vaep_test['player_id'] == player_id]['vaep_value'].sum()/22)\n",
    "print(' ')\n",
    "print('XT Post-transfer: ', xt_test[xt_test['player_id'] == player_id]['xT_value'].sum()/22)\n",
    "print(' ')\n",
    "print('Actions Distribution Post-transfer:\\n', vaep_test[vaep_test['player_id'] == player_id]['type_name_encoded'].value_counts(normalize=True))\n",
    "print(' ')\n",
    "print('End Zone Distribution Post-transfer:\\n', vaep_test[vaep_test['player_id'] == player_id]['end_pitch_zone'].value_counts(normalize=True))"
   ]
  },
  {
   "cell_type": "code",
   "execution_count": null,
   "metadata": {},
   "outputs": [],
   "source": []
  },
  {
   "cell_type": "code",
   "execution_count": null,
   "metadata": {},
   "outputs": [],
   "source": []
  },
  {
   "cell_type": "markdown",
   "metadata": {},
   "source": [
    "Chosen Models\n",
    "\n",
    "Model Eval & Explainability\n",
    "\n",
    "Football Eval\n",
    "\n",
    "Conclusions"
   ]
  }
 ],
 "metadata": {
  "kernelspec": {
   "display_name": "Python 3.9.12 ('base')",
   "language": "python",
   "name": "python3"
  },
  "language_info": {
   "codemirror_mode": {
    "name": "ipython",
    "version": 3
   },
   "file_extension": ".py",
   "mimetype": "text/x-python",
   "name": "python",
   "nbconvert_exporter": "python",
   "pygments_lexer": "ipython3",
   "version": "3.9.12"
  },
  "orig_nbformat": 4,
  "vscode": {
   "interpreter": {
    "hash": "3b230f2c3a454b9d31000333b2514d91645996906422c6e0b66023d65cd0ad59"
   }
  }
 },
 "nbformat": 4,
 "nbformat_minor": 2
}
